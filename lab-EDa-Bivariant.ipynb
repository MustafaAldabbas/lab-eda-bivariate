{
 "cells": [
  {
   "cell_type": "markdown",
   "metadata": {},
   "source": [
    "### Part 1: Analyzing Best-Seller Trends Across Product Categories\n",
    "\n",
    "**Objective**: Understand the relationship between product categories and their best-seller status.\n",
    "\n",
    "1. **Crosstab Analysis**:\n",
    "    - Create a crosstab between the product `category` and the `isBestSeller` status.\n",
    "    \n",
    "    - Are there categories where being a best-seller is more prevalent? \n",
    "    \t\n",
    "    \t*Hint: one option is to calculate the proportion of best-sellers for each category and then sort the categories based on this proportion in descending order.*\n",
    "\n",
    "\n",
    "2. **Statistical Tests**:\n",
    "    - Conduct a Chi-square test to determine if the best-seller distribution is independent of the product category.\n",
    "    - Compute Cramér's V to understand the strength of association between best-seller status and category.\n",
    "\n",
    "3. **Visualizations**:\n",
    "\t- Visualize the relationship between product categories and the best-seller status using a stacked bar chart."
   ]
  },
  {
   "cell_type": "markdown",
   "metadata": {},
   "source": [
    "# Create a crosstab between the product `category` and the `isBestSeller` status.\n"
   ]
  }
 ],
 "metadata": {
  "language_info": {
   "name": "python"
  }
 },
 "nbformat": 4,
 "nbformat_minor": 2
}
